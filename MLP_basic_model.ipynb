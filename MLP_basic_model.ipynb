{
 "cells": [
  {
   "cell_type": "code",
   "execution_count": 2,
   "id": "e88fbe16-5ac3-4841-afd1-4023ebef720a",
   "metadata": {},
   "outputs": [],
   "source": [
    "# pip install flax einops jax jaxlib optax rarfile"
   ]
  },
  {
   "cell_type": "code",
   "execution_count": 1,
   "id": "cd61ee46-134d-4abf-9ae0-b89b938181be",
   "metadata": {},
   "outputs": [
    {
     "name": "stderr",
     "output_type": "stream",
     "text": [
      "2024-11-07 10:55:34.635329: E external/local_xla/xla/stream_executor/cuda/cuda_fft.cc:477] Unable to register cuFFT factory: Attempting to register factory for plugin cuFFT when one has already been registered\n",
      "WARNING: All log messages before absl::InitializeLog() is called are written to STDERR\n",
      "E0000 00:00:1730957134.721683   12924 cuda_dnn.cc:8310] Unable to register cuDNN factory: Attempting to register factory for plugin cuDNN when one has already been registered\n",
      "E0000 00:00:1730957134.746995   12924 cuda_blas.cc:1418] Unable to register cuBLAS factory: Attempting to register factory for plugin cuBLAS when one has already been registered\n"
     ]
    }
   ],
   "source": [
    "# Import necessary libraries\n",
    "import einops\n",
    "import flax.linen as nn\n",
    "import jax\n",
    "import jax.numpy as jnp\n",
    "import optax\n",
    "from flax.training import train_state\n",
    "from tensorflow.keras.preprocessing import image_dataset_from_directory\n",
    "import numpy as np\n",
    "import os\n",
    "\n",
    "class MlpBlock(nn.Module):\n",
    "    mlp_dim: int\n",
    "\n",
    "    @nn.compact\n",
    "    def __call__(self, x):\n",
    "        y = nn.Dense(self.mlp_dim)(x)\n",
    "        y = nn.gelu(y)\n",
    "        return nn.Dense(x.shape[-1])(y)\n",
    "\n",
    "class MixerBlock(nn.Module):\n",
    "    tokens_mlp_dim: int\n",
    "    channels_mlp_dim: int\n",
    "\n",
    "    @nn.compact\n",
    "    def __call__(self, x):\n",
    "        y = nn.LayerNorm()(x)\n",
    "        y = jnp.swapaxes(y, 1, 2)\n",
    "        y = MlpBlock(self.tokens_mlp_dim)(y)\n",
    "        y = jnp.swapaxes(y, 1, 2)\n",
    "        x = x + y\n",
    "        y = nn.LayerNorm()(x)\n",
    "        return x + MlpBlock(self.channels_mlp_dim)(y)\n",
    "\n"
   ]
  },
  {
   "cell_type": "code",
   "execution_count": 3,
   "id": "afbd4e64-0be6-44f9-b965-77ae1e1c281b",
   "metadata": {},
   "outputs": [],
   "source": [
    "class MlpMixer(nn.Module):\n",
    "    num_classes: int\n",
    "    num_blocks: int\n",
    "    patch_size: int\n",
    "    hidden_dim: int\n",
    "    tokens_mlp_dim: int\n",
    "    channels_mlp_dim: int\n",
    "\n",
    "    @nn.compact\n",
    "    def __call__(self, x):\n",
    "        s = self.patch_size\n",
    "        x = nn.Conv(self.hidden_dim, (s, s), strides=(s, s))(x)\n",
    "        x = einops.rearrange(x, 'n h w c -> n (h w) c')\n",
    "        \n",
    "        for _ in range(self.num_blocks):\n",
    "            x = MixerBlock(self.tokens_mlp_dim, self.channels_mlp_dim)(x)\n",
    "        \n",
    "        x = nn.LayerNorm()(x)\n",
    "        x = jnp.mean(x, axis=1)\n",
    "        return nn.Dense(self.num_classes)(x)\n"
   ]
  },
  {
   "cell_type": "code",
   "execution_count": 7,
   "id": "bc7e17f6-3496-4233-bcf1-46651b64ccc9",
   "metadata": {},
   "outputs": [],
   "source": [
    "def load_data(batch_size=32, img_size=(256, 256)):\n",
    "    dataset_path = \"Dataset/Public_Medical_Image_Datasets/covid19-pneumonia-dataset\"\n",
    "\n",
    "    train_dir = os.path.join(dataset_path, \"train_dir\")\n",
    "    valid_dir = os.path.join(dataset_path, \"valid_dir\")\n",
    "    test_dir = os.path.join(dataset_path, \"test_dir\")\n",
    "    \n",
    "    if not all(os.path.exists(d) for d in [train_dir, valid_dir, test_dir]):\n",
    "        raise FileNotFoundError(\"One or more dataset directories not found.\")\n",
    "    \n",
    "    train_ds = image_dataset_from_directory(\n",
    "        train_dir,\n",
    "        label_mode='int',\n",
    "        image_size=img_size,\n",
    "        color_mode='grayscale',\n",
    "        batch_size=batch_size\n",
    "    )\n",
    "    valid_ds = image_dataset_from_directory(\n",
    "        valid_dir,\n",
    "        label_mode='int',\n",
    "        image_size=img_size,\n",
    "        color_mode='grayscale',\n",
    "        batch_size=batch_size\n",
    "    )\n",
    "    test_ds = image_dataset_from_directory(\n",
    "        test_dir,\n",
    "        label_mode='int',\n",
    "        image_size=img_size,\n",
    "        color_mode='grayscale',\n",
    "        batch_size=batch_size\n",
    "    )\n",
    "    return train_ds, valid_ds, test_ds\n"
   ]
  },
  {
   "cell_type": "code",
   "execution_count": 8,
   "id": "075d9ebc-309f-4c49-a15f-40d9dc0fcc7e",
   "metadata": {},
   "outputs": [],
   "source": [
    "def train_step(state, batch):\n",
    "    def loss_fn(params):\n",
    "        logits = state.apply_fn({'params': params}, batch['image'])\n",
    "        loss = optax.softmax_cross_entropy(logits, jax.nn.one_hot(batch['label'], num_classes=3)).mean()\n",
    "        return loss, logits\n",
    "\n",
    "    (loss, logits), grads = jax.value_and_grad(loss_fn, has_aux=True)(state.params)\n",
    "    \n",
    "    state = state.apply_gradients(grads=grads)\n",
    "    \n",
    "    accuracy = (jnp.argmax(logits, -1) == batch['label']).mean()\n",
    "    \n",
    "    return state, loss, accuracy\n",
    "\n",
    "\n",
    "def train_model(state, train_ds, num_epochs=10):\n",
    "    for epoch in range(num_epochs):\n",
    "        for batch in train_ds:\n",
    "            batch = {'image': jnp.array(batch[0] / 255.0), 'label': jnp.array(batch[1])}\n",
    "            \n",
    "            state, loss, accuracy = train_step(state, batch)\n",
    "        \n",
    "        print(f\"Epoch {epoch + 1}, Loss: {loss:.4f}, Accuracy: {accuracy * 100:.2f}%\")\n"
   ]
  },
  {
   "cell_type": "code",
   "execution_count": 9,
   "id": "6f313233-586f-490e-bb76-9bb8b0b841f5",
   "metadata": {},
   "outputs": [
    {
     "name": "stdout",
     "output_type": "stream",
     "text": [
      "Found 3347 files belonging to 3 classes.\n",
      "Found 1045 files belonging to 3 classes.\n",
      "Found 836 files belonging to 3 classes.\n"
     ]
    },
    {
     "name": "stderr",
     "output_type": "stream",
     "text": [
      "2024-11-07 10:56:47.769183: E external/local_xla/xla/stream_executor/cuda/cuda_driver.cc:152] failed call to cuInit: INTERNAL: CUDA error: Failed call to cuInit: UNKNOWN ERROR (303)\n"
     ]
    }
   ],
   "source": [
    "class TrainState(train_state.TrainState):\n",
    "    pass \n",
    "\n",
    "num_classes = 3\n",
    "model = MlpMixer(num_classes=num_classes, num_blocks=8, patch_size=4, hidden_dim=128, tokens_mlp_dim=256, channels_mlp_dim=512)\n",
    "\n",
    "train_ds, valid_ds, test_ds = load_data()\n",
    "\n",
    "rng = jax.random.PRNGKey(0)\n",
    "dummy_input = jnp.ones((1, 256, 256, 1))  \n",
    "params = model.init(rng, dummy_input)['params']\n",
    "\n"
   ]
  },
  {
   "cell_type": "code",
   "execution_count": 10,
   "id": "ac8b084b-252b-44ff-a63c-c551faa8749d",
   "metadata": {},
   "outputs": [
    {
     "name": "stderr",
     "output_type": "stream",
     "text": [
      "\n",
      "KeyboardInterrupt\n",
      "\n"
     ]
    }
   ],
   "source": [
    "state = TrainState.create(\n",
    "    apply_fn=model.apply,\n",
    "    params=params,\n",
    "    tx=optax.adam(1e-3),\n",
    ")\n",
    "\n",
    "train_model(state, train_ds, num_epochs=10)"
   ]
  }
 ],
 "metadata": {
  "kernelspec": {
   "display_name": "Python 3 (ipykernel)",
   "language": "python",
   "name": "python3"
  },
  "language_info": {
   "codemirror_mode": {
    "name": "ipython",
    "version": 3
   },
   "file_extension": ".py",
   "mimetype": "text/x-python",
   "name": "python",
   "nbconvert_exporter": "python",
   "pygments_lexer": "ipython3",
   "version": "3.12.7"
  }
 },
 "nbformat": 4,
 "nbformat_minor": 5
}
